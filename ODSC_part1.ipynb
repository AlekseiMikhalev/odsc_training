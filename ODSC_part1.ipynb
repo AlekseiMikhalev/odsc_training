{
 "cells": [
  {
   "cell_type": "code",
   "execution_count": 18,
   "metadata": {},
   "outputs": [],
   "source": [
    "import matplotlib as mpl\n",
    "from cycler import cycler\n",
    "from matplotlib import ticker\n",
    "\n",
    "mpl.rcParams['lines.linewidth'] = 3\n",
    "mpl.rcParams['lines.markersize'] = 8\n",
    "\n",
    "mpl.rcParams['xtick.labelsize'] = 12\n",
    "mpl.rcParams['xtick.color'] = '#A9A9A9'\n",
    "mpl.rcParams['ytick.labelsize'] = 12\n",
    "mpl.rcParams['ytick.color'] = '#A9A9A9'\n",
    "\n",
    "mpl.rcParams['grid.color'] = '#ffffff'\n",
    "mpl.rcParams['axes.facecolor'] = '#ffffff'\n",
    "\n",
    "mpl.rcParams['axes.spines.left'] = False\n",
    "mpl.rcParams['axes.spines.right'] = False\n",
    "mpl.rcParams['axes.spines.top'] = False\n",
    "mpl.rcParams['axes.spines.bottom'] = False\n",
    "\n",
    "mpl.rcParams['axes.prop_cycle'] = cycler(color=['#2EBCE7', '#84EE29', '#FF8177'])"
   ]
  },
  {
   "cell_type": "markdown",
   "metadata": {},
   "source": [
    "$$\n",
    "\\newcommand\\norm[1]{\\lVert#1\\rVert}\n",
    "\\def\\va{{\\boldsymbol{a}}} % Vectors\n",
    "\\def\\vb{{\\boldsymbol{b}}}\n",
    "\\def\\vi{{\\boldsymbol{i}}}\n",
    "\\def\\vj{{\\boldsymbol{j}}}\n",
    "\\def\\vp{{\\boldsymbol{p}}}\n",
    "\\def\\vq{{\\boldsymbol{q}}}\n",
    "\\def\\vu{{\\boldsymbol{u}}}\n",
    "\\def\\vv{{\\boldsymbol{v}}}\n",
    "\\def\\vw{{\\boldsymbol{w}}}\n",
    "\\def\\vx{{\\boldsymbol{x}}}\n",
    "\\def\\vy{{\\boldsymbol{y}}}\n",
    "\\def\\vz{{\\boldsymbol{z}}}\n",
    "\\def\\mA{{\\boldsymbol{A}}} % Matrices\n",
    "\\def\\mB{{\\boldsymbol{B}}}\n",
    "\\def\\mC{{\\boldsymbol{C}}}\n",
    "\\def\\mD{{\\boldsymbol{D}}}\n",
    "\\def\\mI{{\\boldsymbol{I}}}\n",
    "\\def\\mQ{{\\boldsymbol{Q}}}\n",
    "\\def\\mS{{\\boldsymbol{S}}}\n",
    "\\def\\mT{{\\boldsymbol{T}}}\n",
    "\\def\\mU{{\\boldsymbol{U}}}\n",
    "\\def\\mV{{\\boldsymbol{V}}}\n",
    "\\def\\mW{{\\boldsymbol{W}}}\n",
    "\\def\\mX{{\\boldsymbol{X}}}\n",
    "$$"
   ]
  },
  {
   "cell_type": "markdown",
   "metadata": {},
   "source": [
    "# 1. Scalars, Vectors, matrices and tensors\n",
    "\n",
    "In linear algebra, you deal with vectors. Mathematical objects like *scalars* are defined according to their relationship to vectors: they are numbers that *scale* vectors."
   ]
  },
  {
   "cell_type": "markdown",
   "metadata": {},
   "source": [
    "## 1.1 Geometric and coordinate vectors\n",
    "\n",
    "- Geometric vectors vs. coordinate vectors\n",
    "\n",
    "<img src=\"images/coordinate_vector.png\" width=\"200\">\n",
    "Example of a vector $\\vv$.\n",
    "\n",
    "The coordinate vector $\\vv$ represented in the figure is defined as:\n",
    "\n",
    "$$\n",
    "\\vv = \\begin{bmatrix}\n",
    "3 \\\\\\\\\n",
    "2\n",
    "\\end{bmatrix}\n",
    "$$\n",
    "\n",
    "\n",
    "You can use Numpy to create vectors:"
   ]
  },
  {
   "cell_type": "code",
   "execution_count": 120,
   "metadata": {},
   "outputs": [
    {
     "data": {
      "text/plain": [
       "array([3, 2])"
      ]
     },
     "execution_count": 120,
     "metadata": {},
     "output_type": "execute_result"
    }
   ],
   "source": [
    "import numpy as np\n",
    "v = np.array([3, 2])\n",
    "v"
   ]
  },
  {
   "cell_type": "markdown",
   "metadata": {},
   "source": [
    "You can represent these vectors as points in space (scatter plot) instead of arrows:"
   ]
  },
  {
   "cell_type": "code",
   "execution_count": 19,
   "metadata": {},
   "outputs": [
    {
     "data": {
      "image/png": "[encoded data removed]",
      "text/plain": [
       "<Figure size 432x288 with 1 Axes>"
      ]
     },
     "metadata": {
      "needs_background": "dark"
     },
     "output_type": "display_data"
    }
   ],
   "source": [
    "import matplotlib.pyplot as plt\n",
    "plt.scatter(v[0], v[1])\n",
    "\n",
    "\n",
    "#### Plot axes, labels, etc.\n",
    "plt.xlabel(\"x\")\n",
    "plt.ylabel(\"y\")\n",
    "ax = plt.gca()\n",
    "ax.xaxis.set_major_locator(ticker.MultipleLocator(1))\n",
    "ax.yaxis.set_major_locator(ticker.MultipleLocator(1))\n",
    "plt.axhline(0, c='#a9a9a9', zorder=1)\n",
    "plt.axvline(0, c='#a9a9a9', zorder=1)\n",
    "plt.xlim(-1, 4)\n",
    "plt.ylim(-1, 4)\n",
    "plt.show()"
   ]
  },
  {
   "cell_type": "markdown",
   "metadata": {},
   "source": [
    "- **Indexing**: you can retrieve values in a vector specifying its index (its position in the vector). Note that Python uses zero-based indexing: the first value is at index 0. So, you can get the first value of $\\vv$ with `v[0]` and the second one with `v[1]`.\n",
    "\n",
    "\n",
    "- **More dimensions**: you can create vectors with more values, it will just be harder to represent.\n",
    "\n",
    "\n",
    "- Representing **data** as vectors.\n",
    "\n",
    "Let's say that data corresponding to grades at two exams. You can create one vector per student: each vector contains two values for the two grades. However, to plot the data it can be more convenient to create one vector for each grade containing each all students grades. You'll have two vectors. For instance:"
   ]
  },
  {
   "cell_type": "code",
   "execution_count": 42,
   "metadata": {},
   "outputs": [],
   "source": [
    "x = np.array([1, 2, 3])\n",
    "y = np.array([-1, 4, 6])"
   ]
  },
  {
   "cell_type": "markdown",
   "metadata": {},
   "source": [
    "Then, you can plot the data:"
   ]
  },
  {
   "cell_type": "code",
   "execution_count": 46,
   "metadata": {},
   "outputs": [
    {
     "data": {
      "image/png": "[encoded data removed]",
      "text/plain": [
       "<Figure size 432x288 with 1 Axes>"
      ]
     },
     "metadata": {
      "needs_background": "dark"
     },
     "output_type": "display_data"
    }
   ],
   "source": [
    "plt.scatter(x, y)\n",
    "\n",
    "#### Plot axes, labels, etc.\n",
    "plt.xlabel(\"x\")\n",
    "plt.ylabel(\"y\")\n",
    "ax = plt.gca()\n",
    "ax.xaxis.set_major_locator(ticker.MultipleLocator(1))\n",
    "ax.yaxis.set_major_locator(ticker.MultipleLocator(1))\n",
    "plt.axhline(0, c='#a9a9a9', zorder=1)\n",
    "plt.axvline(0, c='#a9a9a9', zorder=1)\n",
    "plt.xlim(-2, 7)\n",
    "plt.ylim(-2, 7)\n",
    "plt.show()"
   ]
  },
  {
   "cell_type": "markdown",
   "metadata": {},
   "source": [
    "#### Exercise"
   ]
  },
  {
   "cell_type": "markdown",
   "metadata": {},
   "source": [
    "Consider the following dataset:\n"
   ]
  },
  {
   "cell_type": "code",
   "execution_count": 49,
   "metadata": {},
   "outputs": [
    {
     "data": {
      "text/html": [
       "<div>\n",
       "<style scoped>\n",
       "    .dataframe tbody tr th:only-of-type {\n",
       "        vertical-align: middle;\n",
       "    }\n",
       "\n",
       "    .dataframe tbody tr th {\n",
       "        vertical-align: top;\n",
       "    }\n",
       "\n",
       "    .dataframe thead th {\n",
       "        text-align: right;\n",
       "    }\n",
       "</style>\n",
       "<table border=\"1\" class=\"dataframe\">\n",
       "  <thead>\n",
       "    <tr style=\"text-align: right;\">\n",
       "      <th></th>\n",
       "      <th>age</th>\n",
       "      <th>experience (years)</th>\n",
       "    </tr>\n",
       "  </thead>\n",
       "  <tbody>\n",
       "    <tr>\n",
       "      <th>0</th>\n",
       "      <td>23</td>\n",
       "      <td>1</td>\n",
       "    </tr>\n",
       "    <tr>\n",
       "      <th>1</th>\n",
       "      <td>25</td>\n",
       "      <td>2</td>\n",
       "    </tr>\n",
       "    <tr>\n",
       "      <th>2</th>\n",
       "      <td>54</td>\n",
       "      <td>26</td>\n",
       "    </tr>\n",
       "    <tr>\n",
       "      <th>3</th>\n",
       "      <td>41</td>\n",
       "      <td>17</td>\n",
       "    </tr>\n",
       "    <tr>\n",
       "      <th>4</th>\n",
       "      <td>32</td>\n",
       "      <td>6</td>\n",
       "    </tr>\n",
       "  </tbody>\n",
       "</table>\n",
       "</div>"
      ],
      "text/plain": [
       "   age  experience (years)\n",
       "0   23                   1\n",
       "1   25                   2\n",
       "2   54                  26\n",
       "3   41                  17\n",
       "4   32                   6"
      ]
     },
     "execution_count": 49,
     "metadata": {},
     "output_type": "execute_result"
    }
   ],
   "source": [
    "import pandas as pd\n",
    "df = pd.DataFrame({\"age\": [23, 25, 54, 41, 32], \"experience (years)\": [1, 2, 26, 17, 6]})\n",
    "df"
   ]
  },
  {
   "cell_type": "markdown",
   "metadata": {},
   "source": [
    "Create Numpy vectors from the columns of the dataset and create a scatter plot (experience as a function of age) with Matplotlib."
   ]
  },
  {
   "cell_type": "markdown",
   "metadata": {},
   "source": [
    "\n",
    "\n",
    "\n",
    "\n",
    "<details>\n",
    "  <summary>Click to see a solution!</summary>\n",
    "  <pre>\n",
    "    age = df[\"age\"].to_numpy()\n",
    "    experience = df[\"experience (years)\"].to_numpy()\n",
    "    plt.scatter(age, experience)\n",
    "    plt.xlabel(\"Age\")\n",
    "    plt.ylabel(\"Experience\")\n",
    "\n",
    "    #### Plot axes, labels, etc.\n",
    "    plt.xlabel(\"x\")\n",
    "    plt.ylabel(\"y\")\n",
    "    ax = plt.gca()\n",
    "    ax.xaxis.set_major_locator(ticker.MultipleLocator(5))\n",
    "    ax.yaxis.set_major_locator(ticker.MultipleLocator(5))\n",
    "    plt.axhline(0, c='#a9a9a9', zorder=1)\n",
    "    plt.axvline(0, c='#a9a9a9', zorder=1)\n",
    "    plt.show()\n",
    "  </pre>\n",
    "</details>"
   ]
  },
  {
   "cell_type": "code",
   "execution_count": 123,
   "metadata": {},
   "outputs": [
    {
     "data": {
      "image/png": "[encoded data removed]",
      "text/plain": [
       "<Figure size 432x288 with 1 Axes>"
      ]
     },
     "metadata": {
      "needs_background": "dark"
     },
     "output_type": "display_data"
    }
   ],
   "source": [
    "age = df[\"age\"].to_numpy()\n",
    "experience = df[\"experience (years)\"].to_numpy()\n",
    "plt.scatter(age, experience)\n",
    "plt.xlabel(\"Age\")\n",
    "plt.ylabel(\"Experience\")\n",
    "\n",
    "#### Plot axes, labels, etc.\n",
    "ax = plt.gca()\n",
    "ax.xaxis.set_major_locator(ticker.MultipleLocator(5))\n",
    "ax.yaxis.set_major_locator(ticker.MultipleLocator(5))\n",
    "plt.axhline(0, c='#a9a9a9', zorder=1)\n",
    "plt.axvline(0, c='#a9a9a9', zorder=1)\n",
    "plt.show()"
   ]
  },
  {
   "cell_type": "markdown",
   "metadata": {},
   "source": [
    "## 1.2 Matrices and Tensors\n",
    "\n",
    "As vectors, in data science, you can consider *matrices* as a way to store data: they are arrays of numbers organized as row and columns. Let's take an example:\n",
    "\n",
    "$$\n",
    "\\mA = \n",
    "\\begin{bmatrix}\n",
    "1 & 0 \\\\\\\\\n",
    "2 & 3\n",
    "\\end{bmatrix}\n",
    "$$\n",
    "\n",
    "- Any number of rows and columns\n",
    "\n",
    "\n",
    "- In Numpy, matrices are called *two-dimensional arrays*. Let's create one:"
   ]
  },
  {
   "cell_type": "code",
   "execution_count": 125,
   "metadata": {},
   "outputs": [],
   "source": [
    "A = np.array([[2.1, 7.9, 8.4],\n",
    "              [3.0, 4.5, 2.3],\n",
    "              [12.2, 6.6, 8.9],\n",
    "              [1.8, 1., 8.2]])"
   ]
  },
  {
   "cell_type": "code",
   "execution_count": 126,
   "metadata": {},
   "outputs": [
    {
     "data": {
      "text/plain": [
       "array([[ 2.1,  7.9,  8.4],\n",
       "       [ 3. ,  4.5,  2.3],\n",
       "       [12.2,  6.6,  8.9],\n",
       "       [ 1.8,  1. ,  8.2]])"
      ]
     },
     "execution_count": 126,
     "metadata": {},
     "output_type": "execute_result"
    }
   ],
   "source": [
    "A"
   ]
  },
  {
   "cell_type": "markdown",
   "metadata": {},
   "source": [
    "- Note the two pairs of square brackets (`[[]]`)."
   ]
  },
  {
   "cell_type": "markdown",
   "metadata": {},
   "source": [
    "### Shape\n",
    "\n",
    "- It is important to check the shape of the arrays you manipulate.\n",
    "\n",
    "\n",
    "- By convention, the first number corresponds to the rows and the second number to the columns.\n"
   ]
  },
  {
   "cell_type": "code",
   "execution_count": 127,
   "metadata": {},
   "outputs": [
    {
     "data": {
      "text/plain": [
       "(4, 3)"
      ]
     },
     "execution_count": 127,
     "metadata": {},
     "output_type": "execute_result"
    }
   ],
   "source": [
    "A.shape"
   ]
  },
  {
   "cell_type": "markdown",
   "metadata": {},
   "source": [
    "### Indexing\n",
    "\n",
    "As with vectors, you can get components of the matrix using indexing.\n",
    "\n",
    "\n",
    "- You'll need to indexes (one for the row index, and one for the column index):"
   ]
  },
  {
   "cell_type": "code",
   "execution_count": 23,
   "metadata": {
    "scrolled": true
   },
   "outputs": [
    {
     "data": {
      "text/plain": [
       "2.3"
      ]
     },
     "execution_count": 23,
     "metadata": {},
     "output_type": "execute_result"
    }
   ],
   "source": [
    "A[1, 2]"
   ]
  },
  {
   "cell_type": "markdown",
   "metadata": {},
   "source": [
    "`A[1, 2]` returns the component with the row index one and the column index two (with a zero-based indexing).\n",
    "\n",
    "- Colon means from the first to the last index:"
   ]
  },
  {
   "cell_type": "code",
   "execution_count": 24,
   "metadata": {},
   "outputs": [
    {
     "data": {
      "text/plain": [
       "array([ 2.1,  3. , 12.2,  1.8])"
      ]
     },
     "execution_count": 24,
     "metadata": {},
     "output_type": "execute_result"
    }
   ],
   "source": [
    "A[:, 0]"
   ]
  },
  {
   "cell_type": "code",
   "execution_count": 25,
   "metadata": {},
   "outputs": [
    {
     "data": {
      "text/plain": [
       "array([3. , 4.5, 2.3])"
      ]
     },
     "execution_count": 25,
     "metadata": {},
     "output_type": "execute_result"
    }
   ],
   "source": [
    "A[1, :]"
   ]
  },
  {
   "cell_type": "markdown",
   "metadata": {},
   "source": [
    "- Use lists (or other Numpy arrays):"
   ]
  },
  {
   "cell_type": "code",
   "execution_count": 26,
   "metadata": {},
   "outputs": [
    {
     "data": {
      "text/plain": [
       "array([7.9, 6.6])"
      ]
     },
     "execution_count": 26,
     "metadata": {},
     "output_type": "execute_result"
    }
   ],
   "source": [
    "A[[0, 2], 1]"
   ]
  },
  {
   "cell_type": "code",
   "execution_count": 128,
   "metadata": {},
   "outputs": [
    {
     "data": {
      "text/plain": [
       "array([2.1, 3. ])"
      ]
     },
     "execution_count": 128,
     "metadata": {},
     "output_type": "execute_result"
    }
   ],
   "source": [
    "A[:2, 0]"
   ]
  },
  {
   "cell_type": "markdown",
   "metadata": {},
   "source": [
    "### Tensors\n",
    "\n",
    "You can create data structures with more than two directions: in the context of data science, this is called tensors. *Tensors* are multi-dimensional arrays. Scalars, vectors, and matrices are also tensors with specific *rank* (the number of dimensions):\n",
    "\n",
    "<img src=\"images/scalars_to_tensors.png\" width=\"400\">\n",
    "Scalars, vectors, matrices and tensors.\n",
    "\n",
    "- Example 1: store color images:\n",
    "\n",
    "<img src=\"images/tensor_image.png\" width=\"150\">\n",
    "Illustration of the pixels of an image.\n",
    "\n",
    "You can store these pixel values in a three-dimensional Numpy array, that is, a *rank-3* tensor.\n",
    "\n",
    "- Example 2: rank-4 tensor with batch of images. Load the CIFAR dataset using keras, here is what you get:"
   ]
  },
  {
   "cell_type": "code",
   "execution_count": 61,
   "metadata": {},
   "outputs": [],
   "source": [
    "from keras.datasets import cifar10\n",
    "\n",
    "(X_train, y_train), (X_test, y_test) = cifar10.load_data()\n"
   ]
  },
  {
   "cell_type": "code",
   "execution_count": 62,
   "metadata": {},
   "outputs": [
    {
     "data": {
      "text/plain": [
       "(50000, 32, 32, 3)"
      ]
     },
     "execution_count": 62,
     "metadata": {},
     "output_type": "execute_result"
    }
   ],
   "source": [
    "X_train.shape"
   ]
  },
  {
   "cell_type": "markdown",
   "metadata": {},
   "source": [
    "## 1.3 Exercises"
   ]
  },
  {
   "cell_type": "markdown",
   "metadata": {},
   "source": [
    "1. Create a matrix of shape (4, 3) and check its shape. You can fill it with any numbers.\n",
    "\n",
    "<details>\n",
    "  <summary>Click to see a solution!</summary>\n",
    "  <pre>\n",
    "      B = np.zeros((4, 3))\n",
    "      B.shape\n",
    "  </pre>\n",
    "</details>"
   ]
  },
  {
   "cell_type": "markdown",
   "metadata": {},
   "source": [
    "2. Take the following matrix:"
   ]
  },
  {
   "cell_type": "code",
   "execution_count": 37,
   "metadata": {},
   "outputs": [
    {
     "data": {
      "text/plain": [
       "array([[66, 92, 98],\n",
       "       [17, 83, 57],\n",
       "       [86, 97, 96]])"
      ]
     },
     "execution_count": 37,
     "metadata": {},
     "output_type": "execute_result"
    }
   ],
   "source": [
    "np.random.seed(123)\n",
    "B = np.random.randint(0, 100, (3, 3))\n",
    "B"
   ]
  },
  {
   "cell_type": "markdown",
   "metadata": {},
   "source": [
    "Index the matrix $B$ to get the following values:\n",
    "\n",
    "- the last column\n",
    "\n",
    "<details>\n",
    "  <summary>Click to see a solution!</summary>\n",
    "    <pre>\n",
    "B[:, -1]\n",
    "    </pre>\n",
    "</details>\n",
    "\n",
    "- the first two rows\n",
    "\n",
    "<details>\n",
    "  <summary>Click to see a solution!</summary>\n",
    "    <pre>\n",
    "B[:2, :]\n",
    "    </pre>\n",
    "</details>\n",
    "\n",
    "- 17 and 57\n",
    "\n",
    "<details>\n",
    "  <summary>Click to see a solution!</summary>\n",
    "    <pre>\n",
    "B[1, [0, 2]]\n",
    "    </pre>\n",
    "</details>"
   ]
  },
  {
   "cell_type": "code",
   "execution_count": null,
   "metadata": {},
   "outputs": [],
   "source": []
  },
  {
   "cell_type": "code",
   "execution_count": null,
   "metadata": {},
   "outputs": [],
   "source": []
  },
  {
   "cell_type": "code",
   "execution_count": null,
   "metadata": {},
   "outputs": [],
   "source": []
  },
  {
   "cell_type": "markdown",
   "metadata": {},
   "source": [
    "## 2. Operations on Vectors and Matrices\n",
    "\n",
    "In this part, you'll see how to operate on vectors and matrices.\n"
   ]
  },
  {
   "cell_type": "markdown",
   "metadata": {},
   "source": [
    "### 2.1 Scalar Multiplication\n",
    "\n",
    "Scalar multiplication is the multiplication of a vector by a scalar: you get a new vector that is a scaled version of the initial one.\n",
    "\n",
    "- Example: $\\vv$ multiplied by the scalar -2:\n",
    "\n",
    "$$\n",
    "\\vv = \\begin{bmatrix}\n",
    "3 \\\\\\\\\n",
    "2\n",
    "\\end{bmatrix}\n",
    "$$\n",
    "\n",
    "\n",
    "$$\n",
    "\\vw = -2\\vv = -2 \\begin{bmatrix}\n",
    "3 \\\\\\\\\n",
    "2\n",
    "\\end{bmatrix} = \n",
    "\\begin{bmatrix}\n",
    "-2 \\cdot 3 \\\\\\\\\n",
    "-2 \\cdot 2\n",
    "\\end{bmatrix} =\n",
    "\\begin{bmatrix}\n",
    "-6 \\\\\\\\\n",
    "-4\n",
    "\\end{bmatrix}\n",
    "$$\n",
    "\n",
    "- Let's do this operation with Numpy and plot the initial vector $\\vv$ and the resulting vector $\\vw$:"
   ]
  },
  {
   "cell_type": "code",
   "execution_count": 79,
   "metadata": {},
   "outputs": [
    {
     "data": {
      "image/png": "[encoded data removed]",
      "text/plain": [
       "<Figure size 432x288 with 1 Axes>"
      ]
     },
     "metadata": {
      "needs_background": "dark"
     },
     "output_type": "display_data"
    }
   ],
   "source": [
    "v = np.array([3, 2])\n",
    "w = -2 * v\n",
    "\n",
    "plt.quiver(0, 0, v[0], v[1], angles='xy', scale_units='xy', scale=1, color='#2EBCE7')\n",
    "plt.quiver(0, 0, w[0], w[1], angles='xy', scale_units='xy', scale=1, color='#84EE29')\n",
    "\n",
    "#### Plot axes, labels, etc.\n",
    "ax = plt.gca()\n",
    "ax.xaxis.set_major_locator(ticker.MultipleLocator(2))\n",
    "ax.yaxis.set_major_locator(ticker.MultipleLocator(2))\n",
    "plt.axhline(0, c='#a9a9a9', zorder=1)\n",
    "plt.axvline(0, c='#a9a9a9', zorder=1)\n",
    "plt.xlim(-7, 7)\n",
    "plt.ylim(-7, 7)\n",
    "plt.show()"
   ]
  },
  {
   "cell_type": "markdown",
   "metadata": {},
   "source": [
    "- The initial vector (in blue) and the scaled vectors (in green) are both are on the same line.\n"
   ]
  },
  {
   "cell_type": "markdown",
   "metadata": {},
   "source": [
    "#### Matrices\n",
    "\n",
    "$$\n",
    "c \\cdot\n",
    "\\begin{bmatrix}\n",
    "A_{1,1} & A_{1,2} \\\\\\\\\n",
    "A_{2,1} & A_{2,2} \\\\\\\\\n",
    "A_{3,1} & A_{3,2}\n",
    "\\end{bmatrix}\n",
    "= \\begin{bmatrix} \n",
    "c \\cdot A_{1,1} & c \\cdot A_{1,2} \\\\\\\\\n",
    "c \\cdot A_{2,1} & c \\cdot A_{2,2} \\\\\\\\\n",
    "c \\cdot A_{3,1} & c \\cdot A_{3,2}\n",
    "\\end{bmatrix}\n",
    "$$\n"
   ]
  },
  {
   "cell_type": "markdown",
   "metadata": {},
   "source": [
    "### 2.2 Addition\n",
    "\n",
    "Addition of vectors results in another vector.\n",
    "\n",
    "- For instance, let's add the two vectors:\n",
    "\n",
    "$$\n",
    "\\vu = \\begin{bmatrix}\n",
    "1 \\\\\\\\\n",
    "2\n",
    "\\end{bmatrix}\n",
    "$$\n",
    "\n",
    "and \n",
    "\n",
    "$$\n",
    "\\vv = \\begin{bmatrix}\n",
    "5 \\\\\\\\\n",
    "2\n",
    "\\end{bmatrix}\n",
    "$$\n",
    "\n",
    "$$\n",
    "\\vw = \\vu + \\vv = \n",
    "\\begin{bmatrix}\n",
    "1 \\\\\\\\\n",
    "2\n",
    "\\end{bmatrix} + \\begin{bmatrix}\n",
    "5 \\\\\\\\\n",
    "2\n",
    "\\end{bmatrix} =\n",
    "\\begin{bmatrix}\n",
    "1 + 5 \\\\\\\\\n",
    "2 + 2\n",
    "\\end{bmatrix} = \n",
    "\\begin{bmatrix}\n",
    "6 \\\\\\\\\n",
    "4\n",
    "\\end{bmatrix}\n",
    "$$\n",
    "\n",
    "- Add each component with the same index\n",
    "\n",
    "\n",
    "- Now with Numpy:"
   ]
  },
  {
   "cell_type": "code",
   "execution_count": 100,
   "metadata": {},
   "outputs": [
    {
     "data": {
      "text/plain": [
       "array([6, 4])"
      ]
     },
     "execution_count": 100,
     "metadata": {},
     "output_type": "execute_result"
    }
   ],
   "source": [
    "u = np.array([1, 2])\n",
    "v = np.array([5, 2])\n",
    "\n",
    "w = u + v\n",
    "w"
   ]
  },
  {
   "cell_type": "markdown",
   "metadata": {},
   "source": [
    "- Plot of the vectors:"
   ]
  },
  {
   "cell_type": "code",
   "execution_count": 83,
   "metadata": {},
   "outputs": [
    {
     "data": {
      "image/png": "[encoded data removed]",
      "text/plain": [
       "<Figure size 432x288 with 1 Axes>"
      ]
     },
     "metadata": {
      "needs_background": "dark"
     },
     "output_type": "display_data"
    }
   ],
   "source": [
    "plt.quiver(0, 0, u[0], u[1], angles='xy', scale_units='xy', scale=1, color='#2EBCE7')\n",
    "plt.quiver(0, 0, v[0], v[1], angles='xy', scale_units='xy', scale=1, color='#2EBCE7')\n",
    "plt.quiver(0, 0, w[0], w[1], angles='xy', scale_units='xy', scale=1, color='#84EE29')\n",
    "\n",
    "#### Plot axes, labels, etc.\n",
    "ax = plt.gca()\n",
    "ax.xaxis.set_major_locator(ticker.MultipleLocator(2))\n",
    "ax.yaxis.set_major_locator(ticker.MultipleLocator(2))\n",
    "plt.axhline(0, c='#a9a9a9', zorder=1)\n",
    "plt.axvline(0, c='#a9a9a9', zorder=1)\n",
    "plt.xlim(-7, 7)\n",
    "plt.ylim(-7, 7)\n",
    "plt.show()"
   ]
  },
  {
   "cell_type": "markdown",
   "metadata": {},
   "source": [
    "#### Matrices\n",
    "\n",
    "<img src=\"images/matrix_addition.png\" width=\"400\">\n",
    "Addition of two matrices."
   ]
  },
  {
   "cell_type": "markdown",
   "metadata": {},
   "source": [
    "#### Broadcasting"
   ]
  },
  {
   "cell_type": "code",
   "execution_count": 135,
   "metadata": {},
   "outputs": [],
   "source": [
    "A = np.array([[2, 7],\n",
    "              [3, 4],\n",
    "              [8, 2]])"
   ]
  },
  {
   "cell_type": "code",
   "execution_count": 136,
   "metadata": {},
   "outputs": [
    {
     "data": {
      "text/plain": [
       "(3, 2)"
      ]
     },
     "execution_count": 136,
     "metadata": {},
     "output_type": "execute_result"
    }
   ],
   "source": [
    "A.shape"
   ]
  },
  {
   "cell_type": "code",
   "execution_count": 137,
   "metadata": {},
   "outputs": [],
   "source": [
    "B = np.array([[7],\n",
    "              [1],\n",
    "              [3]])"
   ]
  },
  {
   "cell_type": "code",
   "execution_count": 138,
   "metadata": {},
   "outputs": [
    {
     "data": {
      "text/plain": [
       "(3, 1)"
      ]
     },
     "execution_count": 138,
     "metadata": {},
     "output_type": "execute_result"
    }
   ],
   "source": [
    "B.shape"
   ]
  },
  {
   "cell_type": "code",
   "execution_count": 139,
   "metadata": {
    "scrolled": true
   },
   "outputs": [
    {
     "data": {
      "text/plain": [
       "array([[ 9, 14],\n",
       "       [ 4,  5],\n",
       "       [11,  5]])"
      ]
     },
     "execution_count": 139,
     "metadata": {},
     "output_type": "execute_result"
    }
   ],
   "source": [
    "A + B"
   ]
  },
  {
   "cell_type": "code",
   "execution_count": 140,
   "metadata": {},
   "outputs": [
    {
     "data": {
      "text/plain": [
       "(3, 2)"
      ]
     },
     "execution_count": 140,
     "metadata": {},
     "output_type": "execute_result"
    }
   ],
   "source": [
    "(A + B).shape"
   ]
  },
  {
   "cell_type": "markdown",
   "metadata": {},
   "source": [
    "### 2.3 Transposition\n",
    "\n",
    "#### Vectors\n",
    "\n",
    "You can distinguish *row vectors* from *column vectors*. Transposition converts rows vectors into column vectors and column vectors into rows vectors.\n",
    "\n",
    "$$\n",
    "\\begin{bmatrix}\n",
    "2 \\\\\\\\\n",
    "5\n",
    "\\end{bmatrix}^\\text{T}\n",
    "=\n",
    "\\begin{bmatrix}\n",
    "2 & 5\n",
    "\\end{bmatrix}\n",
    "$$\n",
    "\n",
    "- Note: With Numpy, one-dimensional array can't be transpose:\n"
   ]
  },
  {
   "cell_type": "code",
   "execution_count": 85,
   "metadata": {},
   "outputs": [
    {
     "data": {
      "text/plain": [
       "array([2, 5])"
      ]
     },
     "execution_count": 85,
     "metadata": {},
     "output_type": "execute_result"
    }
   ],
   "source": [
    "v = np.array([2, 5])\n",
    "v"
   ]
  },
  {
   "cell_type": "code",
   "execution_count": 86,
   "metadata": {},
   "outputs": [
    {
     "data": {
      "text/plain": [
       "array([2, 5])"
      ]
     },
     "execution_count": 86,
     "metadata": {},
     "output_type": "execute_result"
    }
   ],
   "source": [
    "v.T"
   ]
  },
  {
   "cell_type": "markdown",
   "metadata": {},
   "source": [
    "#### Matrices\n"
   ]
  },
  {
   "cell_type": "markdown",
   "metadata": {},
   "source": [
    "<img src=\"images/matrix_transposition.png\" width=\"400\">\n",
    "Matrix transposition"
   ]
  },
  {
   "cell_type": "code",
   "execution_count": 101,
   "metadata": {},
   "outputs": [
    {
     "data": {
      "text/plain": [
       "array([[ 2.1,  3. , 12.2,  1.8],\n",
       "       [ 7.9,  4.5,  6.6,  1.3],\n",
       "       [ 8.4,  2.1,  8.9,  8.2]])"
      ]
     },
     "execution_count": 101,
     "metadata": {},
     "output_type": "execute_result"
    }
   ],
   "source": [
    "A = np.array([[2.1, 7.9, 8.4],\n",
    "              [3.0, 4.5, 2.1],\n",
    "              [12.2, 6.6, 8.9],\n",
    "              [1.8, 1.3, 8.2]])\n",
    "A.T"
   ]
  },
  {
   "cell_type": "markdown",
   "metadata": {},
   "source": [
    "### 2.4 Exercises\n",
    "\n",
    "Implement vector operations from mathematical notation.\n",
    "\n",
    "You'll use the following vectors and matrices:"
   ]
  },
  {
   "cell_type": "code",
   "execution_count": 84,
   "metadata": {},
   "outputs": [],
   "source": [
    "u = np.array([3, 1])\n",
    "v = np.array([4, -2])\n",
    "w = np.array([-5, 3])\n",
    "\n",
    "A = np.array([[7.2, 4.8, 9.1, 2.5, 1.4],\n",
    "              [1.2, 0.3, 1, 5.4, 3.3]])\n",
    "B = np.array([[1.1, 3.4],\n",
    "              [4.5, 4.3]])"
   ]
  },
  {
   "cell_type": "markdown",
   "metadata": {},
   "source": [
    "- $2 \\vu + 3 \\vv - \\vw$\n",
    "\n",
    "<details>\n",
    "  <summary>Click to see a solution!</summary>\n",
    "    <pre>\n",
    "2 * u + 3 * v - w\n",
    "    </pre>\n",
    "</details>"
   ]
  },
  {
   "cell_type": "markdown",
   "metadata": {},
   "source": [
    "- $(BA)^{\\text{T}}$\n",
    "\n",
    "<details>\n",
    "  <summary>Click to see a solution!</summary>\n",
    "    <pre>\n",
    "(B @ A).T\n",
    "    </pre>\n",
    "</details>"
   ]
  },
  {
   "cell_type": "code",
   "execution_count": null,
   "metadata": {},
   "outputs": [],
   "source": []
  },
  {
   "cell_type": "code",
   "execution_count": null,
   "metadata": {},
   "outputs": [],
   "source": []
  },
  {
   "cell_type": "code",
   "execution_count": null,
   "metadata": {},
   "outputs": [],
   "source": []
  },
  {
   "cell_type": "markdown",
   "metadata": {},
   "source": [
    "## 3. Norms\n",
    "\n",
    "In machine learning, it is crucial to compare vectors, like for instance to evaluate the error of a model (you compare a vector of estimated values with a vector of true values).\n",
    "\n",
    "- Norms associate a single number to a vector.\n",
    "\n",
    "\n",
    "- The norm of a vector $u$ is denoted as $\\norm{\\vu}$.\n",
    "\n",
    "\n",
    "- Distance between two vectors.\n"
   ]
  },
  {
   "cell_type": "markdown",
   "metadata": {},
   "source": [
    "- There are different ways to calculate distances, so there are different norms. More generally, a mathematical entity can be called a norm only if:\n",
    "\n",
    "1. Non-Negativity.\n",
    "2. Zero-Vector Norm.\n",
    "3. Scalar Multiplication: $\\norm{k \\cdot \\vu} = \\left| k \\right| \\cdot \\norm{\\vu}$.\n",
    "4. Triangle Inequality: $\\norm{\\vu + \\vv} \\leq \\norm{\\vu} + \\norm{\\vv}$.\n",
    "\n",
    "<img src=\"images/triangle_inequality.png\" width=\"300\">\n",
    "Illustration of the triangle inequality."
   ]
  },
  {
   "cell_type": "markdown",
   "metadata": {},
   "source": [
    "### 3.1 $L^1$\n",
    "\n",
    "- Lasso regression when $L^1$ is used as regularization.\n",
    "- The equivalent loss function is Mean Absolute Error (MAE).\n",
    "\n",
    "$$\n",
    "\\norm{\\vu}_1 = \\sum_{i=1}^m \\left| u_i \\right|\n",
    "$$\n",
    "\n",
    "with $\\vu$ the vector, $m$ its number of components, and $i$ the index of current component.\n",
    "\n",
    "- With Numpy:"
   ]
  },
  {
   "cell_type": "code",
   "execution_count": 141,
   "metadata": {},
   "outputs": [
    {
     "data": {
      "text/plain": [
       "3.0"
      ]
     },
     "execution_count": 141,
     "metadata": {},
     "output_type": "execute_result"
    }
   ],
   "source": [
    "u = np.array([2, 1])\n",
    "np.linalg.norm(u, ord=1)"
   ]
  },
  {
   "cell_type": "markdown",
   "metadata": {},
   "source": [
    "### 3.2 $L^2$\n",
    "\n",
    "- Ridge regression when $L^2$ is used as regularization.\n",
    "- The equivalent loss function is the Mean Squared Error (MSE).\n",
    "- Corresponds to physical distance.\n",
    "\n",
    "$$\n",
    "\\norm{\\vu}_2  = \\sqrt{\\sum_{i=1}^m u_i^2}\n",
    "$$\n",
    "\n",
    "with $\\vu$ the vector, $m$ its number of components, and $i$ the index of current component.\n",
    "\n",
    "- With Numpy:"
   ]
  },
  {
   "cell_type": "code",
   "execution_count": 87,
   "metadata": {},
   "outputs": [
    {
     "data": {
      "text/plain": [
       "2.23606797749979"
      ]
     },
     "execution_count": 87,
     "metadata": {},
     "output_type": "execute_result"
    }
   ],
   "source": [
    "u = np.array([2, 1])\n",
    "np.linalg.norm(u, ord=2)"
   ]
  },
  {
   "cell_type": "markdown",
   "metadata": {},
   "source": [
    "### 3.3 Squared $L^2$\n",
    "\n",
    "$$\n",
    "\\norm{\\vu}_2^2 = \\sum_{i=1}^m u_i^2\n",
    "$$\n",
    "\n",
    "with $\\vu$ the vector, $m$ its number of components, and $i$ the index of current component.\n",
    "\n",
    "- Advantageous for computation reasons.\n",
    "\n",
    "\n",
    "- Possible to calculate using the dot product of a vector with itself:\n"
   ]
  },
  {
   "cell_type": "code",
   "execution_count": 107,
   "metadata": {},
   "outputs": [
    {
     "data": {
      "text/plain": [
       "5.000000000000001"
      ]
     },
     "execution_count": 107,
     "metadata": {},
     "output_type": "execute_result"
    }
   ],
   "source": [
    "np.linalg.norm(u, ord=2) ** 2"
   ]
  },
  {
   "cell_type": "code",
   "execution_count": 108,
   "metadata": {},
   "outputs": [
    {
     "data": {
      "text/plain": [
       "5"
      ]
     },
     "execution_count": 108,
     "metadata": {},
     "output_type": "execute_result"
    }
   ],
   "source": [
    "u @ u"
   ]
  },
  {
   "cell_type": "markdown",
   "metadata": {},
   "source": [
    "### 3.3 Exercise\n",
    "\n",
    "Let's say you have some data corresponding to the prices of apartments. You built two models to predict the price from various features. The vector `y` contains the true prices of the apartment. The vector `y_hat_first_model` contains the estimated prices obtained from the first model and `y_hat_second_model` the estimated prices from the second model."
   ]
  },
  {
   "cell_type": "code",
   "execution_count": 93,
   "metadata": {},
   "outputs": [],
   "source": [
    "y = np.array([110, 1200, 650, 300, 420])\n",
    "y_hat_first_model = np.array([90, 1000, 620, 330, 340])\n",
    "y_hat_second_model = np.array([100, 1260, 600, 320, 440])\n"
   ]
  },
  {
   "cell_type": "markdown",
   "metadata": {},
   "source": [
    "Which model is better?\n",
    "\n",
    "Use the $L^2$ norm to calculate the distance between the true and the estimated prices for the two models.\n"
   ]
  },
  {
   "cell_type": "markdown",
   "metadata": {},
   "source": [
    "<details>\n",
    "  <summary>Click to see a solution!</summary>\n",
    "    <pre>\n",
    "error_first_model = y - y_hat_first_model\n",
    "error_second_model = y - y_hat_second_model\n",
    "np.linalg.norm(error_first_model, ord=2)\n",
    "np.linalg.norm(error_second_model, ord=2)\n",
    "    </pre>\n",
    "    You can deduce that the second model is better than the first because the error, calculated as the distance between the true prices and the estimated prices, is lower.\n",
    "</details>"
   ]
  },
  {
   "cell_type": "code",
   "execution_count": 143,
   "metadata": {},
   "outputs": [
    {
     "data": {
      "text/plain": [
       "220.45407685048602"
      ]
     },
     "execution_count": 143,
     "metadata": {},
     "output_type": "execute_result"
    }
   ],
   "source": [
    "error_first_model = y - y_hat_first_model\n",
    "error_second_model = y - y_hat_second_model\n",
    "\n",
    "np.linalg.norm(error_first_model, ord=2)\n"
   ]
  },
  {
   "cell_type": "code",
   "execution_count": 144,
   "metadata": {},
   "outputs": [
    {
     "data": {
      "text/plain": [
       "83.66600265340756"
      ]
     },
     "execution_count": 144,
     "metadata": {},
     "output_type": "execute_result"
    }
   ],
   "source": [
    "np.linalg.norm(error_second_model, ord=2)"
   ]
  },
  {
   "cell_type": "code",
   "execution_count": null,
   "metadata": {},
   "outputs": [],
   "source": []
  },
  {
   "cell_type": "markdown",
   "metadata": {},
   "source": [
    "## 4. The Dot Product\n",
    "\n",
    "The *dot product* is an operation that takes two vectors and returns a scalar. It is an example of a more general operation named the *inner product*.\n",
    "\n",
    "<img src=\"images/dot_product_vectors.png\" width=\"300\">\n",
    "Illustration of the dot product.\n",
    "\n",
    "- It is the sum of products of the components with the same index"
   ]
  },
  {
   "cell_type": "markdown",
   "metadata": {},
   "source": [
    "$$\n",
    "\\vu \\cdot \\vv = \\sum_{i=1}^m  u_i v_i\n",
    "$$"
   ]
  },
  {
   "cell_type": "markdown",
   "metadata": {},
   "source": [
    "- With Numpy, you can use the following syntax to calculate the dot product of vectors:"
   ]
  },
  {
   "cell_type": "code",
   "execution_count": 152,
   "metadata": {},
   "outputs": [
    {
     "data": {
      "text/plain": [
       "32"
      ]
     },
     "execution_count": 152,
     "metadata": {},
     "output_type": "execute_result"
    }
   ],
   "source": [
    "u = np.array([1, 2, 3])\n",
    "v = np.array([4, 5, 6])\n",
    "u.dot(v)"
   ]
  },
  {
   "cell_type": "markdown",
   "metadata": {},
   "source": [
    "Or with Python 3.5+:"
   ]
  },
  {
   "cell_type": "code",
   "execution_count": 153,
   "metadata": {},
   "outputs": [
    {
     "data": {
      "text/plain": [
       "32"
      ]
     },
     "execution_count": 153,
     "metadata": {},
     "output_type": "execute_result"
    }
   ],
   "source": [
    "u @ v"
   ]
  },
  {
   "cell_type": "markdown",
   "metadata": {},
   "source": [
    "#### Calculating the Squared $L^2$ Norm\n",
    "\n",
    "- The dot product of a vector with itself gives you the $L^2$ norm:\n",
    "\n",
    "$$\n",
    "\\vu \\cdot \\vu =\n",
    "\\begin{bmatrix}\n",
    "u_1 \\\\\\\\\n",
    "u_2 \\\\\\\\\n",
    "u_3\n",
    "\\end{bmatrix} \\cdot\n",
    "\\begin{bmatrix}\n",
    "u_1 \\\\\\\\\n",
    "u_2 \\\\\\\\\n",
    "u_3\n",
    "\\end{bmatrix} =\n",
    "u_1^2 + u_2^2 + u_3^2 = \\sum_{i=1}^m u_i^2\n",
    "$$\n"
   ]
  },
  {
   "cell_type": "markdown",
   "metadata": {},
   "source": [
    "#### What is this value?\n",
    "\n",
    "<img src=\"images/dot_product_vectors_geo.png\" width=\"300\">\n",
    "\n",
    "- The dot product corresponds to the length of $\\vv$ multiplied by the length of the projection (the vector $\\vu_{\\text{proj}}$).\n"
   ]
  },
  {
   "cell_type": "markdown",
   "metadata": {},
   "source": [
    "### 4.2 Matrix-Vector Product\n"
   ]
  },
  {
   "cell_type": "markdown",
   "metadata": {},
   "source": [
    "Product of a matrix with a vector:\n",
    "\n",
    "<img src=\"images/matrix_vector_dot_product.png\" width=\"350\">\n",
    "Steps of product between a matrix and a vector.\n",
    "\n",
    "- Take one row, consider it as a vector and do the dot product with the column vector."
   ]
  },
  {
   "cell_type": "code",
   "execution_count": 145,
   "metadata": {},
   "outputs": [],
   "source": [
    "A = np.array([\n",
    "    [1, 2],\n",
    "    [5, 6],\n",
    "    [7, 8]\n",
    "])\n",
    "v = np.array([3, 4])"
   ]
  },
  {
   "cell_type": "code",
   "execution_count": 146,
   "metadata": {},
   "outputs": [
    {
     "data": {
      "text/plain": [
       "array([11, 39, 53])"
      ]
     },
     "execution_count": 146,
     "metadata": {},
     "output_type": "execute_result"
    }
   ],
   "source": [
    "A @ v"
   ]
  },
  {
   "cell_type": "markdown",
   "metadata": {},
   "source": [
    "- Weighting of the matrix columns with the elements of the vector (I recommend: Strang, G. \"Introduction to linear algebra, 5th edn. Wellesley.\" (2016).):\n",
    "\n",
    "<img src=\"images/matrix_vector_dot_product_weights.png\" width=\"400\">\n",
    "The vectors values are weighting the columns of the matrix.\n"
   ]
  },
  {
   "cell_type": "markdown",
   "metadata": {},
   "source": [
    "### 4.3 Matrix-Matrix Product\n",
    "\n",
    "You can use the same idea to calculate the product of two matrices (if their shapes are allowing it). For instance:\n",
    "\n",
    "<img src=\"images/matrix_matrix_dot_product.png\" width=\"500\">\n",
    "Matrix product.\n"
   ]
  },
  {
   "cell_type": "code",
   "execution_count": 99,
   "metadata": {
    "code_folding": []
   },
   "outputs": [
    {
     "data": {
      "text/plain": [
       "array([[11,  9],\n",
       "       [39, 45],\n",
       "       [53, 63]])"
      ]
     },
     "execution_count": 99,
     "metadata": {},
     "output_type": "execute_result"
    }
   ],
   "source": [
    "A = np.array([\n",
    "    [1, 2],\n",
    "    [5, 6],\n",
    "    [7, 8],\n",
    "])\n",
    "B = np.array([\n",
    "    [3, 9],\n",
    "    [4, 0]\n",
    "])\n",
    "\n",
    "A @ B"
   ]
  },
  {
   "cell_type": "markdown",
   "metadata": {},
   "source": [
    "\n",
    "<img src=\"images/matrix_matrix_dot_product_shapes.png\" width=\"300\">\n",
    "\n",
    "\n",
    "- Shapes must match for the dot product between two matrices.\n"
   ]
  },
  {
   "cell_type": "markdown",
   "metadata": {},
   "source": [
    "#### Transpose of a Matrix Product\n",
    "\n",
    "The transpose of the dot product between two matrices is equals to:\n",
    "\n",
    "$$\n",
    "(\\mA \\mB)^{\\text{T}} = \\mB^{\\text{T}} \\mA^{\\text{T}}\n",
    "$$\n"
   ]
  },
  {
   "cell_type": "markdown",
   "metadata": {},
   "source": [
    "### 4.3 Exercises\n",
    "\n",
    "Take the following vectors and matrices:"
   ]
  },
  {
   "cell_type": "code",
   "execution_count": 148,
   "metadata": {},
   "outputs": [],
   "source": [
    "A = np.array([\n",
    "    [1, 2, 3],\n",
    "    [4, 5, 6]\n",
    "])\n",
    "B = np.array([\n",
    "    [3, 9],\n",
    "    [4, 0]\n",
    "])\n",
    "C = np.array([\n",
    "    [7, 2],\n",
    "    [9, 3],\n",
    "    [2, 1]\n",
    "])\n",
    "\n",
    "u = np.array([1, 2, 3])\n",
    "v = np.array([4, 2])"
   ]
  },
  {
   "cell_type": "markdown",
   "metadata": {},
   "source": [
    "1. Calculate $(\\mB \\mA)^{\\text{T}}$ and check that it equals $\\mA^{\\text{T}} \\mB^{\\text{T}}$\n",
    "\n",
    "<details>\n",
    "  <summary>Click to see a solution!</summary>\n",
    "    <pre>\n",
    "(B @ A).T\n",
    "A.T @ B.T\n",
    "    </pre>\n",
    "</details>"
   ]
  },
  {
   "cell_type": "code",
   "execution_count": 154,
   "metadata": {},
   "outputs": [
    {
     "data": {
      "text/plain": [
       "array([[39,  4],\n",
       "       [51,  8],\n",
       "       [63, 12]])"
      ]
     },
     "execution_count": 154,
     "metadata": {},
     "output_type": "execute_result"
    }
   ],
   "source": [
    "(B @ A).T"
   ]
  },
  {
   "cell_type": "code",
   "execution_count": 155,
   "metadata": {},
   "outputs": [
    {
     "data": {
      "text/plain": [
       "array([[39,  4],\n",
       "       [51,  8],\n",
       "       [63, 12]])"
      ]
     },
     "execution_count": 155,
     "metadata": {},
     "output_type": "execute_result"
    }
   ],
   "source": [
    "A.T @ B.T"
   ]
  },
  {
   "cell_type": "markdown",
   "metadata": {},
   "source": [
    "2. Check that the shapes match for the following transformations (answer 0 or 1).\n",
    "\n",
    "- $Au$\n",
    "- $BA$\n",
    "- $AB$\n",
    "- $uv$\n",
    "- $Cv$"
   ]
  },
  {
   "cell_type": "markdown",
   "metadata": {},
   "source": [
    "<details>\n",
    "  <summary>Click to see a solution!</summary>\n",
    "    - $Au$: 1\n",
    "    - $BA$: 1\n",
    "    - $AB$: 0\n",
    "    - $uv$: 0\n",
    "    - $Cv$: 1\n",
    "</details>"
   ]
  }
 ],
 "metadata": {
  "kernelspec": {
   "display_name": "Python 3",
   "language": "python",
   "name": "python3"
  },
  "language_info": {
   "codemirror_mode": {
    "name": "ipython",
    "version": 3
   },
   "file_extension": ".py",
   "mimetype": "text/x-python",
   "name": "python",
   "nbconvert_exporter": "python",
   "pygments_lexer": "ipython3",
   "version": "3.7.6"
  },
  "toc": {
   "base_numbering": 1,
   "nav_menu": {},
   "number_sections": false,
   "sideBar": true,
   "skip_h1_title": false,
   "title_cell": "Table of Contents",
   "title_sidebar": "Contents",
   "toc_cell": false,
   "toc_position": {},
   "toc_section_display": true,
   "toc_window_display": true
  }
 },
 "nbformat": 4,
 "nbformat_minor": 4
}
